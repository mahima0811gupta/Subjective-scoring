{
 "cells": [
  {
   "cell_type": "code",
   "execution_count": null,
   "id": "b66ba8ce-5f0d-4af6-940b-896bd5563b5d",
   "metadata": {},
   "outputs": [],
   "source": [
    "pip install --upgrade pip"
   ]
  },
  {
   "cell_type": "code",
   "execution_count": null,
   "id": "2ecd8a00",
   "metadata": {},
   "outputs": [],
   "source": [
    "pip install nltk\n"
   ]
  },
  {
   "cell_type": "code",
   "execution_count": null,
   "id": "7b7ea4b0",
   "metadata": {},
   "outputs": [],
   "source": [
    "pip install rake-nltk"
   ]
  },
  {
   "cell_type": "code",
   "execution_count": null,
   "id": "bccc6c49",
   "metadata": {},
   "outputs": [],
   "source": [
    "import nltk\n",
    "nltk.download('wordnet')\n",
    "nltk.download('omw-1.4')"
   ]
  },
  {
   "cell_type": "code",
   "execution_count": null,
   "id": "c8d47102",
   "metadata": {},
   "outputs": [],
   "source": [
    "from rake_nltk import Rake\n",
    "from nltk.stem import WordNetLemmatizer\n",
    "from nltk.corpus import wordnet\n",
    "import json\n",
    "import nltk"
   ]
  },
  {
   "cell_type": "code",
   "execution_count": null,
   "id": "55916a4e-b313-435c-89f3-d3be1d7d7a4b",
   "metadata": {},
   "outputs": [],
   "source": [
    "rake = Rake()\n",
    "lemmatizer = WordNetLemmatizer()"
   ]
  },
  {
   "cell_type": "code",
   "execution_count": null,
   "id": "789d7a82-6776-460c-9434-ea63e7cd19f9",
   "metadata": {},
   "outputs": [],
   "source": [
    "default_weight = 8"
   ]
  },
  {
   "cell_type": "code",
   "execution_count": null,
   "id": "c76efae4-76ce-4c10-85d9-e7ee7dec90bb",
   "metadata": {},
   "outputs": [],
   "source": [
    "question = \"Explain the impact of technology on education.\""
   ]
  },
  {
   "cell_type": "code",
   "execution_count": null,
   "id": "04c57013-488c-4beb-8d5d-3934ff4c4de2",
   "metadata": {},
   "outputs": [],
   "source": [
    "keyword_weights = {\n",
    "    'technology': 10,\n",
    "    'education': 10,\n",
    "    'learning': 8,\n",
    "    'impact': 5,\n",
    "    'students': 7,\n",
    "    'teachers': 6\n",
    "}"
   ]
  },
  {
   "cell_type": "code",
   "execution_count": null,
   "id": "9beb2102-c0e6-4234-917e-877513e0d45c",
   "metadata": {},
   "outputs": [],
   "source": [
    "question = \"Write a response to a customer complaint received via email. Complaint: Dissatisfaction with Product Performance.\"\n",
    "\n",
    "\n",
    "keyword_weights = {\n",
    "    'Dissatisfaction': 10,\n",
    "    'Quality': 9,\n",
    "    'Performance': 8,\n",
    "    'Standards': 7,\n",
    "    'Robust': 6,\n",
    "    'Design': 6,\n",
    "    'Reliable': 6,\n",
    "    'Variations': 4,\n",
    "    'Compatibility': 5,\n",
    "    'Troubleshooting': 9,\n",
    "    'Refund': 10,\n",
    "    'Exchange': 10\n",
    "}\n"
   ]
  },
  {
   "cell_type": "code",
   "execution_count": null,
   "id": "5d2288f1-a6ea-4e92-b9ab-e56573c6b508",
   "metadata": {},
   "outputs": [],
   "source": [
    "question = \"Write a response to a customer complaint received via email. Complaint: Difficulty Navigating Website.\"\n",
    "\n",
    "\n",
    "keyword_weights = {\n",
    "    'Apologize': 10,\n",
    "    'Website': 7,\n",
    "    'Navigation': 8,\n",
    "    'User-friendly': 6,\n",
    "    'Catalog': 5,\n",
    "    'Resources': 5,\n",
    "    'Drawbacks': 6,\n",
    "    'Complex': 6,\n",
    "    'Feedback': 8,\n",
    "    'Search function': 7,\n",
    "    'Assistance': 7,\n",
    "    'Enhancements': 8\n",
    "}\n"
   ]
  },
  {
   "cell_type": "code",
   "execution_count": null,
   "id": "4d639ccc-273b-40bf-a1c4-7cd987c3e9d3",
   "metadata": {},
   "outputs": [],
   "source": [
    "question = \"Draft a summary of the provided reading text.\"\n",
    "\n",
    "\n",
    "keyword_weights = {\n",
    "    'Mindfulness': 5,\n",
    "    'Meditation': 4,\n",
    "    'Benefits': 4,\n",
    "    'Health': 3,\n",
    "    'Stress': 3,\n",
    "    'Anxiety': 3,\n",
    "    'Depression': 3,\n",
    "    'Focus': 3,\n",
    "    'Well-being': 3,\n",
    "    'Resilience': 3\n",
    "}\n"
   ]
  },
  {
   "cell_type": "code",
   "execution_count": null,
   "id": "85198d6c-cc64-41f3-9c0f-b924a894b6b1",
   "metadata": {},
   "outputs": [],
   "source": [
    "question = \"Compose an argument supporting or opposing a position stated in a scenario.\"\n",
    "\n",
    "\n",
    "keyword_weights = {\n",
    "    'HR': 5,\n",
    "    'Manager': 5,\n",
    "    'Company': 5,\n",
    "    'Mandatory': 4,\n",
    "    'Mindfulness': 5,\n",
    "    'Meditation': 5,\n",
    "    'Resource': 4,\n",
    "    'Individual': 4,\n",
    "    'Preferences': 4,\n",
    "    'Resentment': 3,\n",
    "    'Morale': 3,\n",
    "    'Personal': 4,\n",
    "    'Boundaries': 4,\n",
    "    'Satisfaction': 3,\n",
    "    'Diversity': 4,\n",
    "    'Fitness': 2,\n",
    "    'Flexible Work Hours': 2,\n",
    "    'Inclusivity': 3,\n",
    "    'Autonomy': 3,\n",
    "    'Well-being': 4,\n",
    "    'Workforce': 3\n",
    "}\n"
   ]
  },
  {
   "cell_type": "code",
   "execution_count": null,
   "id": "9c33b20d-e25f-4cef-b73d-e854f4308496",
   "metadata": {},
   "outputs": [],
   "source": [
    "question = \"Write a project update email to a team.\"\n",
    "\n",
    "\n",
    "keyword_weights = {\n",
    "    'Project': 5,\n",
    "    'Update': 4,\n",
    "    'Accomplishments': 4,\n",
    "    'Milestones': 4,\n",
    "    'Backend': 3,\n",
    "    'Design': 3,\n",
    "    'Challenges': 4,\n",
    "    'Resource': 3,\n",
    "    'Timeline': 3,\n",
    "    'Next Steps': 4\n",
    "}\n"
   ]
  },
  {
   "cell_type": "code",
   "execution_count": null,
   "id": "79d348aa-f16a-4063-a5c9-807004078a32",
   "metadata": {},
   "outputs": [],
   "source": [
    "# Function to break phrases into individual words\n",
    "def break_phrases(phrases_list):\n",
    "    words = []\n",
    "    for phrase in phrases_list:\n",
    "        if len(phrase.split()) == 1:\n",
    "            words.append(phrase)\n",
    "        else:\n",
    "            words.extend(phrase.split())\n",
    "    return words\n"
   ]
  },
  {
   "cell_type": "code",
   "execution_count": null,
   "id": "09354a0f-3a09-474b-a2d9-fda18cb4471c",
   "metadata": {},
   "outputs": [],
   "source": [
    "# Function to lemmatize a list of words\n",
    "def lemmatize(words_list):\n",
    "    return list(map(lemmatizer.lemmatize, words_list))\n"
   ]
  },
  {
   "cell_type": "code",
   "execution_count": null,
   "id": "33ae1847-7d20-4c59-b796-d50ef81dc093",
   "metadata": {},
   "outputs": [],
   "source": [
    "# Function to get synonyms using WordNet\n",
    "def get_synonyms(word):\n",
    "    synonyms = set()\n",
    "    for syn in wordnet.synsets(word):\n",
    "        for lemma in syn.lemmas():\n",
    "            synonyms.add(lemma.name())\n",
    "    return synonyms"
   ]
  },
  {
   "cell_type": "code",
   "execution_count": null,
   "id": "e056ff43-1aa5-458a-b280-7f5b798910dc",
   "metadata": {},
   "outputs": [],
   "source": [
    "# Function to score a user's answer\n",
    "def score_answer(user_answer, keyword_weights):\n",
    "    max_score = 10\n",
    "\n",
    "    # Extract keywords from the user answer\n",
    "    rake.extract_keywords_from_text(user_answer)\n",
    "    user_keywords = lemmatize(break_phrases(rake.get_ranked_phrases()))\n",
    "\n",
    "    # Calculate the score\n",
    "    score = 0\n",
    "    for word in user_keywords:\n",
    "        if word in keyword_weights:\n",
    "            # Use provided keyword weight if available\n",
    "            score += (keyword_weights[word] * max_score) / 100\n",
    "        else:\n",
    "            # Check for synonyms in the keyword weights\n",
    "            found = False\n",
    "            for correct_word in keyword_weights:\n",
    "                if word in get_synonyms(correct_word):\n",
    "                    score += (keyword_weights.get(correct_word, default_weight) * max_score) / 100\n",
    "                    found = True\n",
    "                    break\n",
    "            if not found:\n",
    "                # Assign default weight if keyword weight not provided\n",
    "                score += (default_weight * max_score) / 100\n",
    "\n",
    "\n",
    "\n",
    "\n",
    "    # Cap the score at 10\n",
    "    score = min(score, 10)\n",
    "    return round(score, 2)\n",
    "    "
   ]
  },
  {
   "cell_type": "code",
   "execution_count": null,
   "id": "992e021f-a67d-44d2-95a1-f3c26113798b",
   "metadata": {},
   "outputs": [],
   "source": [
    "# Function to get user input\n",
    "def get_user_input():\n",
    "    user_answer = input(f\"Question: {question}\\nPlease enter your subjective answer: \")\n",
    "    return user_answer\n",
    "\n",
    "# Get user input\n",
    "user_answer = get_user_input()\n",
    "\n",
    "\n",
    "\n",
    "# Score the user's answer\n",
    "score = score_answer(user_answer, keyword_weights)\n",
    "print(f\"Score for the subjective answer: {score}\")"
   ]
  },
  {
   "cell_type": "code",
   "execution_count": null,
   "id": "f0007ec1-0d66-4c31-89c8-863e126a68c6",
   "metadata": {},
   "outputs": [],
   "source": []
  }
 ],
 "metadata": {
  "kernelspec": {
   "display_name": "Python 3 (ipykernel)",
   "language": "python",
   "name": "python3"
  },
  "language_info": {
   "codemirror_mode": {
    "name": "ipython",
    "version": 3
   },
   "file_extension": ".py",
   "mimetype": "text/x-python",
   "name": "python",
   "nbconvert_exporter": "python",
   "pygments_lexer": "ipython3",
   "version": "3.10.11"
  }
 },
 "nbformat": 4,
 "nbformat_minor": 5
}
